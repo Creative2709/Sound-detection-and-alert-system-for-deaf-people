{
 "cells": [
  {
   "cell_type": "code",
   "execution_count": 1,
   "id": "9e8d27ed",
   "metadata": {},
   "outputs": [
    {
     "name": "stdout",
     "output_type": "stream",
     "text": [
      "Requirement already satisfied: librosa in c:\\users\\91913\\anaconda3\\lib\\site-packages (0.10.1)\n",
      "Requirement already satisfied: numba>=0.51.0 in c:\\users\\91913\\anaconda3\\lib\\site-packages (from librosa) (0.53.1)\n",
      "Requirement already satisfied: soxr>=0.3.2 in c:\\users\\91913\\anaconda3\\lib\\site-packages (from librosa) (0.3.7)\n",
      "Requirement already satisfied: lazy-loader>=0.1 in c:\\users\\91913\\anaconda3\\lib\\site-packages (from librosa) (0.3)\n",
      "Requirement already satisfied: scipy>=1.2.0 in c:\\users\\91913\\anaconda3\\lib\\site-packages (from librosa) (1.6.2)\n",
      "Requirement already satisfied: soundfile>=0.12.1 in c:\\users\\91913\\anaconda3\\lib\\site-packages (from librosa) (0.12.1)\n",
      "Requirement already satisfied: audioread>=2.1.9 in c:\\users\\91913\\anaconda3\\lib\\site-packages (from librosa) (3.0.1)\n",
      "Requirement already satisfied: decorator>=4.3.0 in c:\\users\\91913\\anaconda3\\lib\\site-packages (from librosa) (5.0.6)\n",
      "Requirement already satisfied: pooch>=1.0 in c:\\users\\91913\\anaconda3\\lib\\site-packages (from librosa) (1.8.0)\n",
      "Requirement already satisfied: msgpack>=1.0 in c:\\users\\91913\\anaconda3\\lib\\site-packages (from librosa) (1.0.2)\n",
      "Requirement already satisfied: joblib>=0.14 in c:\\users\\91913\\anaconda3\\lib\\site-packages (from librosa) (1.0.1)\n",
      "Requirement already satisfied: typing-extensions>=4.1.1 in c:\\users\\91913\\anaconda3\\lib\\site-packages (from librosa) (4.5.0)\n",
      "Requirement already satisfied: scikit-learn>=0.20.0 in c:\\users\\91913\\anaconda3\\lib\\site-packages (from librosa) (0.24.1)\n",
      "Requirement already satisfied: numpy!=1.22.0,!=1.22.1,!=1.22.2,>=1.20.3 in c:\\users\\91913\\anaconda3\\lib\\site-packages (from librosa) (1.22.4)\n",
      "Requirement already satisfied: llvmlite<0.37,>=0.36.0rc1 in c:\\users\\91913\\anaconda3\\lib\\site-packages (from numba>=0.51.0->librosa) (0.36.0)\n",
      "Requirement already satisfied: setuptools in c:\\users\\91913\\anaconda3\\lib\\site-packages (from numba>=0.51.0->librosa) (52.0.0.post20210125)\n",
      "Requirement already satisfied: requests>=2.19.0 in c:\\users\\91913\\anaconda3\\lib\\site-packages (from pooch>=1.0->librosa) (2.25.1)\n",
      "Requirement already satisfied: platformdirs>=2.5.0 in c:\\users\\91913\\anaconda3\\lib\\site-packages (from pooch>=1.0->librosa) (4.1.0)\n",
      "Requirement already satisfied: packaging>=20.0 in c:\\users\\91913\\anaconda3\\lib\\site-packages (from pooch>=1.0->librosa) (20.9)\n",
      "Requirement already satisfied: pyparsing>=2.0.2 in c:\\users\\91913\\anaconda3\\lib\\site-packages (from packaging>=20.0->pooch>=1.0->librosa) (2.4.7)\n",
      "Requirement already satisfied: certifi>=2017.4.17 in c:\\users\\91913\\anaconda3\\lib\\site-packages (from requests>=2.19.0->pooch>=1.0->librosa) (2020.12.5)\n",
      "Requirement already satisfied: urllib3<1.27,>=1.21.1 in c:\\users\\91913\\anaconda3\\lib\\site-packages (from requests>=2.19.0->pooch>=1.0->librosa) (1.26.4)\n",
      "Requirement already satisfied: idna<3,>=2.5 in c:\\users\\91913\\anaconda3\\lib\\site-packages (from requests>=2.19.0->pooch>=1.0->librosa) (2.10)\n",
      "Requirement already satisfied: chardet<5,>=3.0.2 in c:\\users\\91913\\anaconda3\\lib\\site-packages (from requests>=2.19.0->pooch>=1.0->librosa) (4.0.0)\n",
      "Requirement already satisfied: threadpoolctl>=2.0.0 in c:\\users\\91913\\anaconda3\\lib\\site-packages (from scikit-learn>=0.20.0->librosa) (2.1.0)\n",
      "Requirement already satisfied: cffi>=1.0 in c:\\users\\91913\\anaconda3\\lib\\site-packages (from soundfile>=0.12.1->librosa) (1.14.5)\n",
      "Requirement already satisfied: pycparser in c:\\users\\91913\\anaconda3\\lib\\site-packages (from cffi>=1.0->soundfile>=0.12.1->librosa) (2.20)\n",
      "Note: you may need to restart the kernel to use updated packages.\n"
     ]
    }
   ],
   "source": [
    "pip install librosa"
   ]
  },
  {
   "cell_type": "code",
   "execution_count": 2,
   "id": "59977290",
   "metadata": {},
   "outputs": [],
   "source": [
    "import IPython.display as ipd\n",
    "import numpy as np\n",
    "import librosa\n",
    "import librosa.display\n",
    "from IPython.display import display, Image"
   ]
  },
  {
   "cell_type": "code",
   "execution_count": 3,
   "id": "f4d706ac",
   "metadata": {},
   "outputs": [],
   "source": [
    "def get_frequency(audio_file):\n",
    "    y, sr = librosa.load(audio_file)\n",
    "    spectrum = np.abs(librosa.stft(y))\n",
    "    average_spectrum = np.mean(spectrum, axis=1)\n",
    "    frequencies = librosa.fft_frequencies(sr=sr)\n",
    "    dominant_frequency = frequencies[np.argmax(average_spectrum)]\n",
    "    return dominant_frequency"
   ]
  },
  {
   "cell_type": "code",
   "execution_count": 4,
   "id": "2469edf1",
   "metadata": {},
   "outputs": [],
   "source": [
    "mobile_path = \"UrbanSound/audio/Mobile_ringtone/434877__izalew__nokia-ringtone-with-vibration.wav\""
   ]
  },
  {
   "cell_type": "code",
   "execution_count": 5,
   "id": "a3490f57",
   "metadata": {},
   "outputs": [
    {
     "name": "stdout",
     "output_type": "stream",
     "text": [
      "2637.8173828125\n"
     ]
    }
   ],
   "source": [
    "mobile_frequency = get_frequency(mobile_path)\n",
    "print(mobile_frequency)"
   ]
  },
  {
   "cell_type": "code",
   "execution_count": 6,
   "id": "0a17c4a0",
   "metadata": {},
   "outputs": [],
   "source": [
    "alarm_path = \"UrbanSound/audio/Washing_machine/TF020.wav\""
   ]
  },
  {
   "cell_type": "code",
   "execution_count": 7,
   "id": "11fe00ca",
   "metadata": {},
   "outputs": [
    {
     "name": "stdout",
     "output_type": "stream",
     "text": [
      "656.7626953125\n"
     ]
    }
   ],
   "source": [
    "alarm_frequency = get_frequency(alarm_path)\n",
    "print(alarm_frequency)"
   ]
  },
  {
   "cell_type": "code",
   "execution_count": 8,
   "id": "c806ed4c",
   "metadata": {},
   "outputs": [],
   "source": [
    "doorbell_path = \"UrbanSound/audio/Door_bell/87151__akanimbus__twotonedoorbell-mine.wav\""
   ]
  },
  {
   "cell_type": "code",
   "execution_count": 9,
   "id": "4508b700",
   "metadata": {},
   "outputs": [
    {
     "name": "stdout",
     "output_type": "stream",
     "text": [
      "1830.322265625\n"
     ]
    }
   ],
   "source": [
    "doorbell_frequency = get_frequency(doorbell_path)\n",
    "print(doorbell_frequency)"
   ]
  },
  {
   "cell_type": "code",
   "execution_count": 10,
   "id": "1398f7d7",
   "metadata": {},
   "outputs": [],
   "source": [
    "beep_path = \"UrbanSound/audio/beep/beep-01a.wav\""
   ]
  },
  {
   "cell_type": "code",
   "execution_count": 11,
   "id": "46c78da5",
   "metadata": {},
   "outputs": [
    {
     "name": "stdout",
     "output_type": "stream",
     "text": [
      "1001.2939453125\n"
     ]
    }
   ],
   "source": [
    "beep_frequency = get_frequency(beep_path)\n",
    "print(beep_frequency)"
   ]
  },
  {
   "cell_type": "code",
   "execution_count": 12,
   "id": "22ed442e",
   "metadata": {},
   "outputs": [],
   "source": [
    "dog_path = \"UrbanSound/audio/Dog_barking/BARKING_CLOSELY_CHEESED_OFF_Ops.wav\""
   ]
  },
  {
   "cell_type": "code",
   "execution_count": 13,
   "id": "2128376d",
   "metadata": {},
   "outputs": [
    {
     "name": "stdout",
     "output_type": "stream",
     "text": [
      "538.330078125\n"
     ]
    }
   ],
   "source": [
    "dog_frequency = get_frequency(dog_path)\n",
    "print(dog_frequency)"
   ]
  },
  {
   "cell_type": "code",
   "execution_count": 14,
   "id": "c7fe1f16",
   "metadata": {},
   "outputs": [],
   "source": [
    "cooker_path = \"UrbanSound/audio/Cooker/66364__reinsamba__1243_pressure_cooker.wav\""
   ]
  },
  {
   "cell_type": "code",
   "execution_count": 15,
   "id": "bc32ce20",
   "metadata": {},
   "outputs": [
    {
     "name": "stdout",
     "output_type": "stream",
     "text": [
      "3305.3466796875\n"
     ]
    }
   ],
   "source": [
    "cooker_frequency = get_frequency(cooker_path)\n",
    "print(cooker_frequency)"
   ]
  },
  {
   "cell_type": "code",
   "execution_count": 16,
   "id": "581cd15a",
   "metadata": {},
   "outputs": [],
   "source": [
    "def identify_sound(audio_file):\n",
    "    frequency = get_frequency(audio_file)\n",
    "    \n",
    "    mobile = [2347.119140625, 2637.8173828125, 3326.8798828125, 3520.6787109375]\n",
    "    alarm = [645.99609375, 1948.7548828125,3251.513671875]\n",
    "    doorbell = [1830.322265625,1012.060546875, 1162.79296875, 1248.92578125]\n",
    "    beep = [1001.2939453125, 2993.115234375]\n",
    "    dog = [538.330078125, 979.7607421875, 990.52734375, 1216.6259765625, 1388.8916015625]\n",
    "    cooker = 3305.3466796875 or 2314.8193359375\n",
    "    \n",
    "    if frequency in mobile:\n",
    "        return \"mobile ringtone\"\n",
    "    elif frequency in alarm:\n",
    "        return \"alarm sound\"\n",
    "    elif frequency in doorbell:\n",
    "        return \"doorbell\"\n",
    "    elif frequency in beep:\n",
    "        return \"beep sound\"\n",
    "    elif frequency in dog:\n",
    "        return \"dog barking\"\n",
    "    elif cooker==frequency:\n",
    "        return \"cooker whistle\"\n",
    "    return \"Unknown Sound\""
   ]
  },
  {
   "cell_type": "code",
   "execution_count": 17,
   "id": "b0340a6a",
   "metadata": {},
   "outputs": [],
   "source": [
    "import sounddevice as sd\n",
    "import numpy as np\n",
    "from scipy.io.wavfile import write\n",
    "import tempfile\n",
    "import os"
   ]
  },
  {
   "cell_type": "code",
   "execution_count": 24,
   "id": "344c1067",
   "metadata": {},
   "outputs": [],
   "source": [
    "def record_audio(duration=10, sample_rate=44100):\n",
    "    # Initialize the sounddevice input stream\n",
    "    input_stream = sd.InputStream(channels=1, samplerate=sample_rate, dtype=np.int16)\n",
    "\n",
    "    # Create a temporary file to store the recorded audio\n",
    "    temp_wav_file = tempfile.NamedTemporaryFile(suffix=\".wav\", delete=False)\n",
    "    temp_wav_file.close()\n",
    "\n",
    "    # Start the input stream\n",
    "    input_stream.start()\n",
    "\n",
    "    print(\"Recording...\")\n",
    "    # Record audio for the specified duration\n",
    "    audio_data, _ = input_stream.read(int(duration * sample_rate))\n",
    "    input_stream.stop()\n",
    "\n",
    "    print(\"Recording complete\")\n",
    "\n",
    "    # Save the recorded audio to the temporary WAV file\n",
    "    write(temp_wav_file.name, sample_rate, audio_data)\n",
    "\n",
    "    return temp_wav_file.name"
   ]
  },
  {
   "cell_type": "code",
   "execution_count": 32,
   "id": "a52201c3",
   "metadata": {},
   "outputs": [
    {
     "name": "stdout",
     "output_type": "stream",
     "text": [
      "Recording...\n",
      "Recording complete\n",
      "Identified Sound: mobile ringtone\n"
     ]
    },
    {
     "data": {
      "image/png": "[encoded data removed]",
      "text/plain": [
       "<IPython.core.display.Image object>"
      ]
     },
     "metadata": {},
     "output_type": "display_data"
    }
   ],
   "source": [
    "audio_file = record_audio(duration=10)\n",
    "result = identify_sound(audio_file)\n",
    "print(\"Identified Sound:\", result)\n",
    "if result == \"mobile ringtone\":\n",
    "    image_path = \"UrbanSound/mobile_ringtone.png\"\n",
    "    display(Image(filename=image_path))\n",
    "elif result == \"alarm sound\":\n",
    "    image_path = \"UrbanSound/alarm.png\"\n",
    "    display(Image(filename=image_path))\n",
    "elif result ==  \"doorbell\":\n",
    "    image_path = \"UrbanSound/doorbell1.png\"\n",
    "    display(Image(filename=image_path))\n",
    "elif result == \"beep sound\":\n",
    "    image_path = \"UrbanSound/beep.png\"\n",
    "    display(Image(filename=image_path))\n",
    "elif result == \"dog barking\":\n",
    "    image_path = \"UrbanSound/dog_barking.png\"\n",
    "    display(Image(filename=image_path))"
   ]
  },
  {
   "cell_type": "code",
   "execution_count": 20,
   "id": "64eca8fc",
   "metadata": {},
   "outputs": [],
   "source": [
    "display(get_frequency(audio_file))"
   ]
  }
 ],
 "metadata": {
  "kernelspec": {
   "display_name": "Python 3",
   "language": "python",
   "name": "python3"
  },
  "language_info": {
   "codemirror_mode": {
    "name": "ipython",
    "version": 3
   },
   "file_extension": ".py",
   "mimetype": "text/x-python",
   "name": "python",
   "nbconvert_exporter": "python",
   "pygments_lexer": "ipython3",
   "version": "3.8.8"
  }
 },
 "nbformat": 4,
 "nbformat_minor": 5
}
